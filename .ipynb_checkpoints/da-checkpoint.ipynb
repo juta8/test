{
 "cells": [
  {
   "cell_type": "code",
   "execution_count": null,
   "metadata": {
    "collapsed": true
   },
   "outputs": [],
   "source": [
    "import alpha_client\n",
    "import alpha_creator\n",
    "import alpha_parser\n",
    "import alpha_requestor\n",
    "import alpha_mode\n",
    "\n",
    "mode = alpha_mode.AlphaMode('da')\n",
    "\n",
    "for i in range(100):\n",
    "    try:\n",
    "        mode.simulate_base_pack(300)\n",
    "        mode.parse_pack(50)\n",
    "        \n",
    "        print('')\n",
    "        print('')\n",
    "        print('')\n",
    "        print('')\n",
    "        print('')\n",
    "        print('')\n",
    "        \n",
    "        mode.mix_mode(iteration=1, pack_number=50, mix_iteration=8)\n",
    "        mode.parse_pack(50)\n",
    "        \n",
    "        print('')\n",
    "        print('')\n",
    "        print('')\n",
    "        print('')\n",
    "        print('')\n",
    "        print('')\n",
    "        \n",
    "        mode.upgrade_one_mode(mix_iteration=15, max_iteration=8)\n",
    "    except Exception as e:\n",
    "        print('Exception occured {}'.format(e))"
   ]
  }
 ],
 "metadata": {
  "kernelspec": {
   "display_name": "Python 3",
   "language": "python",
   "name": "python3"
  },
  "language_info": {
   "codemirror_mode": {
    "name": "ipython",
    "version": 3
   },
   "file_extension": ".py",
   "mimetype": "text/x-python",
   "name": "python",
   "nbconvert_exporter": "python",
   "pygments_lexer": "ipython3",
   "version": "3.6.1"
  }
 },
 "nbformat": 4,
 "nbformat_minor": 2
}
